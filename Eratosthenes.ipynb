{
 "metadata": {
  "name": "",
  "signature": "sha256:3ac121ba401a02162fd84f67b4550fc6790260bb55aa142566f6a394cc94d732"
 },
 "nbformat": 3,
 "nbformat_minor": 0,
 "worksheets": [
  {
   "cells": [
    {
     "cell_type": "code",
     "collapsed": false,
     "input": [
      "def primes_sieve(limit):\n",
      "    limitn = limit+1\n",
      "    not_prime = [False] * limitn\n",
      "    primes = []\n",
      "\n",
      "    for i in range(2, limitn):\n",
      "        if not_prime[i]:\n",
      "            continue\n",
      "        for f in xrange(i*2, limitn, i):\n",
      "            not_prime[f] = True\n",
      "\n",
      "        primes.append(i)\n",
      "\n",
      "    return primes"
     ],
     "language": "python",
     "metadata": {},
     "outputs": [],
     "prompt_number": 8
    },
    {
     "cell_type": "code",
     "collapsed": false,
     "input": [
      "def eratosthenes(n):\n",
      "    multiples = []\n",
      "    for i in range(2, n+1):\n",
      "        if i not in multiples:\n",
      "            print (i)\n",
      "            for j in range(i*i, n+1, i):\n",
      "                multiples.append(j)"
     ],
     "language": "python",
     "metadata": {},
     "outputs": [],
     "prompt_number": 2
    },
    {
     "cell_type": "markdown",
     "metadata": {},
     "source": [
      "both solutions taken from http://stackoverflow.com/questions/3939660/sieve-of-eratosthenes-finding-primes-python"
     ]
    },
    {
     "cell_type": "code",
     "collapsed": false,
     "input": [
      "eratosthenes(20)"
     ],
     "language": "python",
     "metadata": {},
     "outputs": [
      {
       "output_type": "stream",
       "stream": "stdout",
       "text": [
        "2\n",
        "3\n",
        "5\n",
        "7\n",
        "11\n",
        "13\n",
        "17\n",
        "19\n"
       ]
      }
     ],
     "prompt_number": 6
    },
    {
     "cell_type": "code",
     "collapsed": false,
     "input": [
      "primes_sieve(20)"
     ],
     "language": "python",
     "metadata": {},
     "outputs": [
      {
       "metadata": {},
       "output_type": "pyout",
       "prompt_number": 9,
       "text": [
        "[2, 3, 5, 7, 11, 13, 17, 19]"
       ]
      }
     ],
     "prompt_number": 9
    },
    {
     "cell_type": "code",
     "collapsed": false,
     "input": [],
     "language": "python",
     "metadata": {},
     "outputs": []
    }
   ],
   "metadata": {}
  }
 ]
}